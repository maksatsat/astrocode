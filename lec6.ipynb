{
 "cells": [
  {
   "cell_type": "markdown",
   "id": "2c77d4cf",
   "metadata": {},
   "source": [
    "# Epoch Folding\n",
    "\n",
    "[Leahy et al. 1989 (On searches for pulsed emission with application to four globular cluster X-ray sources : NGC 1851, 6441, 6624 and 6712)](https://ui.adsabs.harvard.edu/abs/1983ApJ...266..160L/abstract)\n",
    "\n",
    "Времена прихода фотонов $t_k, k=1,2...N$ разбиваются на $n$ фазовых бинов предполагаемого периода $P$.\n",
    "\n",
    "Если в данных нет периодичности для данного периода $P$, то ожидается равномерное распределение событий по бинам.\n",
    "\n",
    "Однако, если периодичность есть, будем видеть профиль импульса.\n",
    "\n",
    "Для каждого пробного периода расчитывается $\\displaystyle \\chi^2=\\sum_{i=1}^n\\cfrac{(O_i-E_i)^2}{E_i^2}$,\n",
    "\n",
    "где $O_i$ - наблюдаемое число событий в $i$-м фазовом бине, $E_i$ - ожидаемое равномерным распредением число событий на бин. \n",
    "\n",
    "![alt text](ef_xkcd.png)"
   ]
  },
  {
   "cell_type": "code",
   "execution_count": null,
   "id": "68e63257",
   "metadata": {},
   "outputs": [],
   "source": [
    "import numpy as np\n",
    "import matplotlib.pyplot as plt\n",
    "%matplotlib notebook"
   ]
  },
  {
   "cell_type": "code",
   "execution_count": null,
   "id": "9e60fc36",
   "metadata": {},
   "outputs": [],
   "source": [
    "class PeriodicEventGenerator:\n",
    "    def __init__(self, mean_rate, start_time, stop_time, period=2*np.pi, pf=1.0, phase=0.0):\n",
    "        self.period = period\n",
    "        self.pf = pf\n",
    "        self.phase = phase\n",
    "        arrival_times = []\n",
    "    \n",
    "        _t = start_time - (1/self.sin_rate(start_time, mean_rate, pf, period, phase))*np.log(1-np.random.random())\n",
    "        while _t < stop_time:\n",
    "            arrival_times.append(_t)\n",
    "            _t -= (1/self.sin_rate(_t, mean_rate, pf, period, phase))*np.log(1-np.random.random())\n",
    "        self.times = np.array(arrival_times)\n",
    "        \n",
    "    def sin_rate(self, x, mean_rate, pf, period=2*np.pi, phase=0.0):\n",
    "        return mean_rate*(1+pf*np.sin(x*2*np.pi/period+phase*2*np.pi))"
   ]
  },
  {
   "cell_type": "code",
   "execution_count": null,
   "id": "d99a7c37",
   "metadata": {},
   "outputs": [],
   "source": [
    "period = 120\n",
    "mean_rate = 21\n",
    "start_time = 0\n",
    "stop_time = 3600\n",
    "\n",
    "events = PeriodicEventGenerator(mean_rate, start_time, stop_time, period, pf=0.7)"
   ]
  },
  {
   "cell_type": "code",
   "execution_count": null,
   "id": "37e29993",
   "metadata": {},
   "outputs": [],
   "source": [
    "bins = np.arange(start_time, stop_time, 20)\n",
    "fig, ax = plt.subplots(figsize=(9,5))\n",
    "\n",
    "ax.hist(events.times, bins=bins, histtype='step' ,color='k', label='rate')\n",
    "\n",
    "plt.show()"
   ]
  },
  {
   "cell_type": "code",
   "execution_count": null,
   "id": "a227494e",
   "metadata": {},
   "outputs": [],
   "source": [
    "per = 120\n",
    "phase = events.times%per/per"
   ]
  },
  {
   "cell_type": "code",
   "execution_count": null,
   "id": "8bf7a642",
   "metadata": {},
   "outputs": [],
   "source": [
    "per = 120\n",
    "phase = events.times%per/per\n",
    "fig, ax = plt.subplots(figsize=(9,5))\n",
    "ax.hist(phase, bins=20)\n",
    "plt.show()"
   ]
  },
  {
   "cell_type": "code",
   "execution_count": null,
   "id": "785ab4ca",
   "metadata": {},
   "outputs": [],
   "source": [
    "nbins = 20\n",
    "expected = len(events.times)/nbins\n",
    "observed = np.histogram(phase, bins=nbins)[0]\n"
   ]
  },
  {
   "cell_type": "code",
   "execution_count": null,
   "id": "786bd597",
   "metadata": {},
   "outputs": [],
   "source": [
    "periods = np.linspace(20, 500, 1000)\n",
    "ef = np.zeros(1000)\n",
    "nbins = 20\n",
    "for i, per in enumerate(periods):\n",
    "    phase = events.times%per/per\n",
    "    np.histogram(phase, bins=20)[0]\n",
    "    observed = np.histogram(phase, bins=nbins)[0]\n",
    "    expected = len(events.times)/nbins\n",
    "    ef[i] = np.sum((observed-expected)**2/(expected**2))"
   ]
  },
  {
   "cell_type": "code",
   "execution_count": null,
   "id": "986b2d51",
   "metadata": {},
   "outputs": [],
   "source": [
    "fig, ax = plt.subplots(figsize=(9,5))\n",
    "plt.plot(periods, ef)\n",
    "plt.xlim(30, 200)\n",
    "plt.xlabel('Period')\n",
    "plt.ylabel('EF')\n",
    "plt.show()"
   ]
  },
  {
   "cell_type": "code",
   "execution_count": null,
   "id": "2fb5b0e4",
   "metadata": {},
   "outputs": [],
   "source": []
  }
 ],
 "metadata": {
  "kernelspec": {
   "display_name": "Python 3 (ipykernel)",
   "language": "python",
   "name": "python3"
  },
  "language_info": {
   "codemirror_mode": {
    "name": "ipython",
    "version": 3
   },
   "file_extension": ".py",
   "mimetype": "text/x-python",
   "name": "python",
   "nbconvert_exporter": "python",
   "pygments_lexer": "ipython3",
   "version": "3.10.0"
  }
 },
 "nbformat": 4,
 "nbformat_minor": 5
}
